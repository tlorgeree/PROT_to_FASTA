{
 "cells": [
  {
   "cell_type": "code",
   "execution_count": 1,
   "metadata": {},
   "outputs": [
    {
     "name": "stdout",
     "output_type": "stream",
     "text": [
      "GQ67_05362.prot\n",
      "GQ67_05362.txt\n",
      "C:\\Users\\Tim\\Desktop\\Protein Files\\text\\GQ67_05362.txt\n",
      "5203\n"
     ]
    }
   ],
   "source": [
    "import os\n",
    "\n",
    "in_dir = \"C:\\\\Users\\\\Tim\\Desktop\\\\Protein Files\\\\KphWT\"\n",
    "out_dir = \"C:\\\\Users\\\\Tim\\\\Desktop\\\\Protein Files\\\\text\"\n",
    "aa = [\"A\",\"R\",\"N\",\"D\",\"B\",\"C\",\"E\",\"Q\",\"Z\",\"G\",\"H\",\"I\",\"L\",\"K\",\"M\",\"F\",\"P\",\"S\",\"T\",\"U\",\"W\",\"Y\",\"V\"]\n",
    "total_files = 0\n",
    "for index, file in enumerate(os.listdir(in_dir)):\n",
    "    file_name_to = \"\"\n",
    "    aa_seq_curr = \"\"\n",
    "    aa_seq_longest =\"\"\n",
    "    seq_end = -1\n",
    "    index_last = 0\n",
    "    \n",
    "    file_contents = \"\"\n",
    "    file_full = in_dir + \"\\\\\" + file\n",
    "    with open(file_full, 'rb') as i:\n",
    "            for index, line in enumerate(i):\n",
    "                str_curr = str(line)\n",
    "                for char in str_curr:\n",
    "                    if char in aa:\n",
    "                        aa_seq_curr += char\n",
    "                    else: aa_seq_curr = \"\"\n",
    "                    if len(aa_seq_curr) > len(aa_seq_longest):\n",
    "                        aa_seq_longest = aa_seq_curr\n",
    "        \n",
    "    i.close()\n",
    "    if aa_seq_longest == \"\":\n",
    "        print(\"Didn't find seq for {}\".format(file))\n",
    "      \n",
    "                    \n",
    "    for char in file:\n",
    "        if not char == \".\":\n",
    "            file_name_to += char\n",
    "        else: break\n",
    "    file_name_to\n",
    "    file_name_to_fasta = file_name_to + \".txt\"\n",
    "    file_dir_to = out_dir + \"\\\\\" + file_name_to_fasta\n",
    "    \n",
    "    file_write = aa_seq_longest\n",
    "    r = open(file_dir_to, 'w')\n",
    "    r.write(file_write)\n",
    "    r.close()\n",
    "    total_files += 1\n",
    "\n",
    "print(file)\n",
    "print(file_name_to_fasta)\n",
    "print(file_dir_to)\n",
    "print(total_files)"
   ]
  },
  {
   "cell_type": "code",
   "execution_count": null,
   "metadata": {},
   "outputs": [],
   "source": []
  },
  {
   "cell_type": "code",
   "execution_count": null,
   "metadata": {},
   "outputs": [],
   "source": []
  }
 ],
 "metadata": {
  "kernelspec": {
   "display_name": "Python 3",
   "language": "python",
   "name": "python3"
  },
  "language_info": {
   "codemirror_mode": {
    "name": "ipython",
    "version": 3
   },
   "file_extension": ".py",
   "mimetype": "text/x-python",
   "name": "python",
   "nbconvert_exporter": "python",
   "pygments_lexer": "ipython3",
   "version": "3.8.5"
  }
 },
 "nbformat": 4,
 "nbformat_minor": 4
}
